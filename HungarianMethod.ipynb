{
 "cells": [
  {
   "cell_type": "markdown",
   "metadata": {},
   "source": [
    "# Zagadnienie przydziału - metoda węgierska\n",
    "<b>Grupa: </b> 4a, czwartek 14:30 – 16:00 \n",
    "\n",
    "<b>Data wykonania: </b> 29.04.2021\n",
    "\n",
    "<b> Skład zespołu: </b>\n",
    "\n",
    "-Zuzanna Zielińska (Krok 3 - Sprawdzenie liczby zer niezależnych)\n",
    "\n",
    "-Zofia Lenarczyk (Krok 1 - Redukcja macierzy)\n",
    "\n",
    "-Maciej Kucharski (Krok 4 - Próba powiększenia zbioru zer niezależnych)\n",
    "\n",
    "-Łukasz Rams (Krok 2 - Poszukiwanie kompletnego przydziału)\n",
    "\n",
    "Celem ćwiczenia było zespołowe zaimplementowanie metody węgierskiej - algorytmu rozwiązującego problem przydziału."
   ]
  },
  {
   "source": [
    "### Importy potrzebnych bibliotek"
   ],
   "cell_type": "markdown",
   "metadata": {}
  },
  {
   "cell_type": "code",
   "execution_count": 1,
   "metadata": {},
   "outputs": [],
   "source": [
    "import numpy as np\n",
    "from typing import Tuple, Optional, Union, Tuple\n",
    "from collections import Counter\n",
    "from itertools import product"
   ]
  },
  {
   "cell_type": "markdown",
   "metadata": {},
   "source": [
    "## Krok 1 - Redukcja macierzy"
   ]
  },
  {
   "cell_type": "code",
   "execution_count": 2,
   "metadata": {},
   "outputs": [],
   "source": [
    "def reduce_matrix(matrix: np.ndarray) -> Optional[Tuple[np.ndarray, int]]:\n",
    "\n",
    "    \"\"\"\n",
    "    Funkcja realizuje redukcję macierzy kwadratowej.\n",
    "    W każdym wierszu wyszukiwany jest element najmniejszy, który następnie jest dodawany do kosztu redukcji oraz\n",
    "    odejmowany (redukowany) od wszystkich elementów w wierszu.\n",
    "    Analogiczne działanie dla kolumn macierzy.\n",
    "\n",
    "    :param matrix: macierz wejściowa\n",
    "    :return: zredukowana macierz, koszt redukcji\n",
    "    \"\"\"\n",
    "\n",
    "    # Sprawdzenie czy macierz jest kwadratowa:\n",
    "    if matrix.shape[0] != matrix.shape[1]:\n",
    "        print('Niepoprawne wymiary macierzy wejściowej')\n",
    "        return None\n",
    "\n",
    "    reduction_cost: int = 0  # Koszt redukcji\n",
    "    reduced_rows_matrix: np.ndarray = np.zeros(matrix.shape)  # Macierz z zredukowanymi wierszami\n",
    "    reduced_matrix: np.ndarray = np.zeros(matrix.shape)  # Zredukowana macierz\n",
    "\n",
    "    # Redukcja wierszy\n",
    "    for i in range(matrix.shape[0]):\n",
    "        minimum = matrix[i].min()\n",
    "        reduction_cost += minimum\n",
    "        row_reduced = [x - minimum for x in matrix[i]]\n",
    "        reduced_rows_matrix[i] = row_reduced\n",
    "\n",
    "    print(f'\\nMacierz ze zredukowanymi wierszami:\\n {reduced_rows_matrix}')\n",
    "    print(f'Koszt redukcji wierszy: {reduction_cost}')\n",
    "\n",
    "    # Redukcja kolumn\n",
    "    for i in range(matrix.shape[0]):\n",
    "        minimum = reduced_rows_matrix[:, i].min()\n",
    "        reduction_cost += minimum\n",
    "        col_reduced = [x - minimum for x in reduced_rows_matrix[:, i]]\n",
    "        reduced_matrix[:, i] = col_reduced\n",
    "\n",
    "    print(f'\\nZredukowana macierz:\\n {reduced_matrix}')\n",
    "    print(f'Całkowity koszt redukcji macierzy: {reduction_cost}')\n",
    "\n",
    "    return set_zeros(reduced_matrix, reduction_cost)"
   ]
  },
  {
   "source": [
    "#### Komentarz\n",
    "Wynik redukcji jest zależny od kolejności jej wykonywania. Macierz zredukowana oraz koszt redukcji będzie się różnić w zależności czy najpierw wykonana jest redukcja wierszy czy kolumn."
   ],
   "cell_type": "markdown",
   "metadata": {}
  },
  {
   "cell_type": "markdown",
   "metadata": {},
   "source": [
    "## Krok 2 - Poszukiwanie kompletnego przydziału"
   ]
  },
  {
   "cell_type": "code",
   "execution_count": 3,
   "metadata": {},
   "outputs": [],
   "source": [
    "def set_zeros(matrix: np.ndarray, fi: Union[int, float]) -> Tuple[np.ndarray, np.ndarray, Union[int, float]]:\n",
    "    \"\"\"\n",
    "    ================================================================================================\n",
    "    Slajd 2\n",
    "    Poszykiwanie kompletnego przydziału\n",
    "    ================================================================================================\n",
    "    \n",
    "    Funkcja wyznacza zera niezależne oraz zera zależne.\n",
    "    Zasada działania:\n",
    "\n",
    "    1. Stworzenie listy list zawierającej informacje o pozycjach zer w każdym wierszu macierzy matrix\n",
    "    (jeśli zera nie ma w danym wierszu lista zawiera -1) oraz zmiennej best_sol i best_sol_size odpowiednio\n",
    "    przechowującej informacje o najlepszym rozwiązaniu i liczbie zer przez nie wyznaczonej\n",
    "\n",
    "    2. Wyznaczenie kombinacji tych pozycji zer\n",
    "        przykład:\n",
    "            wejście [[1, 2, 3], [-1], [0, 2]]\n",
    "            wyjście [(1, -1, 0), (1, -1, 2), (2, -1, 0), (2, -1, 2), (3, -1, 0), (3, -1, 2)]\n",
    "\n",
    "    3. Wyznaczenie najlepszego dopasowania:\n",
    "            1. Przejście po wszystkich elementach:\n",
    "                jeśli wartości w elemencie się powtarzają (z wyjątkiem -1):\n",
    "                        zamień kolejne powtórzenia wartości na -1\n",
    "                jeśli nie:\n",
    "                        jeśli liczba niezależnych zer z danego elementu > best_sol_size:\n",
    "                            ustaw best_sol_size jako liczba niezależnych zer z danego elementu (tj. rozmiar elementu - liczba wartości \"-1\")\n",
    "                            ustaw best_sol jako ten element\n",
    "                        jeśli nie:\n",
    "                            wybierz następny element\n",
    "                jeśli best_sol_size wynosi tyle co rozmiar macierzy:\n",
    "                    zakończ\n",
    "                jeśli nie:\n",
    "                    sprawdź kolejny element\n",
    "\n",
    "    4. Utwórz macierz z zerami zależnymi i niezależnymi an podstawie best_sol\n",
    "                    0 - wartość różna od zera w macierzy matrix\n",
    "                    1 - zero niezależne w macierzy matrix\n",
    "                    2 - zero zależne w macierzy matrix\n",
    "\n",
    "    5. Jeśli best_sol_size wynosi tyle co rozmiar macierzy matrix:\n",
    "            zwróć informacje o przydziale, koszt i zakończ algorytm\n",
    "       Jeśli nie:\n",
    "            wywołaj kolejny etap\n",
    "\n",
    "    :param matrix: przekształcona macierz z etapu I\n",
    "    :param fi: aktualny koszt\n",
    "    :return: informacja o przydziale i koszt lub macierz z I etapu, macierz z zerami nie~/zależnymi, aktualny koszt\n",
    "    \"\"\"\n",
    "    # etap 1\n",
    "    lol: List[List[int]] = list()\n",
    "    best_sol: Optional[Tuple[int]] = []\n",
    "    best_sol_size: Optional[int] = 0\n",
    "    size: int = matrix.shape[0]\n",
    "    for row in matrix:\n",
    "        lol.append([])\n",
    "        for col in range(size):\n",
    "            if row[col] == 0:\n",
    "                lol[-1].append(col)\n",
    "        if not len(lol[-1]):\n",
    "            lol[-1].append(-1)\n",
    "\n",
    "    # etap 2\n",
    "    pred_sol: List[Tuple[int]] = list(product(*lol))\n",
    "\n",
    "    # etap 3\n",
    "    for elem in pred_sol:\n",
    "        tmp = Counter(elem)\n",
    "        tmp2 = False\n",
    "        for i in range(size):\n",
    "            if tmp[i] and tmp[i] > 1:\n",
    "                tmp2 = True\n",
    "                break\n",
    "        if tmp2:\n",
    "            elem = list(elem)\n",
    "            for i in range(len(elem)):\n",
    "                if elem[i] in elem[:i]:\n",
    "                    elem[i] = -1\n",
    "            elem = tuple(elem)\n",
    "            tmp = Counter(elem)\n",
    "        if (tmp[-1] and size - tmp[-1] > best_sol_size) or not tmp[-1]:\n",
    "            best_sol_size = size - tmp[-1] if tmp[-1] else size\n",
    "            best_sol = elem\n",
    "        else:\n",
    "            continue\n",
    "        if best_sol_size == size:\n",
    "            break\n",
    "\n",
    "    # etap 4\n",
    "    matrix_to_return: np.ndarray = np.zeros((size, size))\n",
    "    for i in range(size):\n",
    "        if lol[i][0] != -1:\n",
    "            for el in lol[i]:\n",
    "                matrix_to_return[i][el] = 2\n",
    "    for i in range(size):\n",
    "        if best_sol[i] != -1:\n",
    "            matrix_to_return[i][best_sol[i]] = 1\n",
    "\n",
    "    # etap 5\n",
    "    if best_sol_size == size:\n",
    "        fit: str = \"\"\n",
    "        for i in range(size):\n",
    "            fit += f\"zadanie: {i} --> maszyna: {best_sol[i]}\\n\"\n",
    "        print(\"\\nMacierz zer niezależnych\")\n",
    "        print(matrix_to_return)\n",
    "        print(\"\\nDopasowanie:\\n\", fit, \"\\nKoszt:\\n\", str(fi))\n",
    "    else:\n",
    "        print(\"\\nMacierz zer niezależnych\")\n",
    "        print(matrix_to_return)\n",
    "        return cross_zeros_off(matrix, matrix_to_return, fi)"
   ]
  },
  {
   "source": [
    "#### Komentarz\n",
    "Minimalna liczba zer niezależnych w macierzy zredukowanej jest równa jeden natomiast w optymistycznym przypadku maksymalna liczba zer niezależnych jest równa wymiarowi macierzy."
   ],
   "cell_type": "markdown",
   "metadata": {}
  },
  {
   "cell_type": "markdown",
   "metadata": {},
   "source": [
    "## Krok 3 - Sprawdzenie liczby zer niezależnych"
   ]
  },
  {
   "cell_type": "code",
   "execution_count": 4,
   "metadata": {},
   "outputs": [],
   "source": [
    "#Zwraca minimalną listę wierszy i listę kolumn zawierających wszystkie zera w macierzy = pokrycie wierzchołkowe\n",
    "def cross_zeros_off(org:np.ndarray, A:np.ndarray, fi:float) -> Tuple[np.ndarray, np.ndarray]:\n",
    "    \n",
    "    independent_zero = 1 #Oznaczenie zera niezależnego\n",
    "    dependent_zero = 2 #Oznaczenie zera zależnego\n",
    "    \n",
    "    n = len(A) #Wymiar macierzy\n",
    "    \n",
    "    if n != len(A[0]): #Funkcja przyjmuje tylko macierze kwadratowe\n",
    "        print(\"Macierz nie jest kwadratowa\")\n",
    "        return 0\n",
    "    \n",
    "    #True -> oznaczam wiersz lub kolumnę symbolem x\n",
    "    B1 = np.zeros(n, bool) #Wektor zakreśleń wierszy \n",
    "    B2 = np.zeros(n, bool) #Wektor zakreśleń kolumn\n",
    "    \n",
    "    new = 1\n",
    "    \n",
    "    #-----Oznaczanie symbolem x każdy wiersz nie posiadający zera niezależnego-----\n",
    "    for i in range(n):\n",
    "        independent_zero_exist = False\n",
    "        for j in range(n):\n",
    "            if A[i][j] == independent_zero:\n",
    "                independent_zero_exist = True\n",
    "        if independent_zero_exist == False:\n",
    "            if B1[i] == False:\n",
    "                new = 1\n",
    "                B1[i] = True\n",
    "        \n",
    "    while new == 1: #Sprawdzenie czy w poprzedniej pętli dodano nowy element\n",
    "        new = 0            \n",
    "\n",
    "        #-----Oznaczanie symbolem x każdą kolumnę posiadajęcą zero zależne w oznaczonym wierszu-----\n",
    "        for i in range(n):\n",
    "            for j in range(n):\n",
    "                if A[i][j] == dependent_zero and B1[i]:\n",
    "                    if B2[j] == False:\n",
    "                        new = 1\n",
    "                        B2[j] = True\n",
    "\n",
    "\n",
    "        #-----Oznaczanie symbolem x każdy wiersz mający zero niezależne w oznakowanej kolumnie-----\n",
    "        for i in range(n):\n",
    "            for j in range(n):\n",
    "                if A[i][j] == independent_zero and B2[j]:\n",
    "                    if B1[i] == False:\n",
    "                        new = 1\n",
    "                        B1[i] = True\n",
    "    \n",
    "    #-----Pokrycie wierzchołkowe = wszystkie nieoznakowane wiersze i oznakowane kolumny-----\n",
    "    row = np.logical_not(B1)\n",
    "    column = B2\n",
    "    \n",
    "    print(\"\\nOznaczone wiersze: \", row)\n",
    "    print(\"Oznaczone kolumny: \", column)\n",
    "    \n",
    "    return step_4(org, fi, row, column)"
   ]
  },
  {
   "cell_type": "markdown",
   "metadata": {},
   "source": [
    "#### Komentarz\n",
    "Minimalna liczba lini wykreślających wszystkie zera jest równa aktualnej liczbie zer niezależnych. Algorytm nie bierzę pod uwagę jak wiele zer jest w danym wierszu, sprawdza tylko czy istnieją."
   ]
  },
  {
   "cell_type": "markdown",
   "metadata": {},
   "source": [
    "## Krok 4 - Próba powiększenia zbioru zer niezależnych"
   ]
  },
  {
   "cell_type": "code",
   "execution_count": 5,
   "metadata": {},
   "outputs": [],
   "source": [
    "def step_4(oryginal, fi, row, col):\n",
    "    global counter\n",
    "    counter += 1\n",
    "\n",
    "    uncover_min = np.inf\n",
    "    for i in range(oryginal.shape[0]):  # rzędy\n",
    "        for j in range(oryginal.shape[1]):  # kolumny\n",
    "            if not row[i] and not col[j] and oryginal[i, j] < uncover_min:\n",
    "                uncover_min = oryginal[i, j]\n",
    "\n",
    "    for i in range(oryginal.shape[0]):  # rzędy\n",
    "        for j in range(oryginal.shape[1]):  # kolumny\n",
    "            if not row[i] and not col[j]:\n",
    "                oryginal[i, j] -= uncover_min\n",
    "            if row[i] and col[j]:\n",
    "                oryginal[i, j] += uncover_min\n",
    "            \n",
    "\n",
    "    print(uncover_min)\n",
    "    print(\"\\nmacierz po kroku 4\")\n",
    "    print(oryginal)\n",
    "    return set_zeros(oryginal, fi+(uncover_min*counter))"
   ]
  },
  {
   "source": [
    "## Test algorytmu"
   ],
   "cell_type": "markdown",
   "metadata": {}
  },
  {
   "cell_type": "code",
   "execution_count": 6,
   "metadata": {},
   "outputs": [
    {
     "output_type": "stream",
     "name": "stdout",
     "text": [
      "[[5 8 9 2 1 5 8 6 4 2]\n [3 4 5 8 7 5 2 1 6 5]\n [9 8 7 5 9 2 3 6 5 9]\n [8 7 5 6 5 7 8 9 5 6]\n [2 1 4 5 7 8 6 3 2 1]\n [4 7 5 8 9 6 5 2 1 4]\n [7 9 5 6 3 2 1 4 5 4]\n [8 2 1 5 3 2 1 2 3 6]\n [5 7 5 6 2 7 9 3 4 6]\n [7 5 6 4 6 7 9 2 1 7]]\n"
     ]
    }
   ],
   "source": [
    "# Macierz kosztów\n",
    "\n",
    "matrix = np.array([[5, 8, 9, 2, 1, 5, 8, 6, 4, 2],\n",
    "                   [3, 4, 5, 8, 7, 5, 2, 1, 6, 5],\n",
    "                   [9, 8, 7, 5, 9, 2, 3, 6, 5, 9],\n",
    "                   [8, 7, 5, 6, 5, 7, 8, 9, 5, 6],\n",
    "                   [2, 1, 4, 5, 7, 8, 6, 3, 2, 1],\n",
    "                   [4, 7, 5, 8, 9, 6, 5, 2, 1, 4],\n",
    "                   [7, 9, 5, 6, 3, 2, 1, 4, 5, 4],\n",
    "                   [8, 2, 1, 5, 3, 2, 1, 2, 3, 6],\n",
    "                   [5, 7, 5, 6, 2, 7, 9, 3, 4, 6],\n",
    "                   [7, 5, 6, 4, 6, 7, 9, 2, 1, 7]])\n",
    "\n",
    "print(matrix)\n",
    "counter = 0 "
   ]
  },
  {
   "cell_type": "code",
   "execution_count": 7,
   "metadata": {
    "tags": []
   },
   "outputs": [
    {
     "output_type": "stream",
     "name": "stdout",
     "text": [
      "\nMacierz ze zredukowanymi wierszami:\n [[4. 7. 8. 1. 0. 4. 7. 5. 3. 1.]\n [2. 3. 4. 7. 6. 4. 1. 0. 5. 4.]\n [7. 6. 5. 3. 7. 0. 1. 4. 3. 7.]\n [3. 2. 0. 1. 0. 2. 3. 4. 0. 1.]\n [1. 0. 3. 4. 6. 7. 5. 2. 1. 0.]\n [3. 6. 4. 7. 8. 5. 4. 1. 0. 3.]\n [6. 8. 4. 5. 2. 1. 0. 3. 4. 3.]\n [7. 1. 0. 4. 2. 1. 0. 1. 2. 5.]\n [3. 5. 3. 4. 0. 5. 7. 1. 2. 4.]\n [6. 4. 5. 3. 5. 6. 8. 1. 0. 6.]]\nKoszt redukcji wierszy: 16\n\nZredukowana macierz:\n [[3. 7. 8. 0. 0. 4. 7. 5. 3. 1.]\n [1. 3. 4. 6. 6. 4. 1. 0. 5. 4.]\n [6. 6. 5. 2. 7. 0. 1. 4. 3. 7.]\n [2. 2. 0. 0. 0. 2. 3. 4. 0. 1.]\n [0. 0. 3. 3. 6. 7. 5. 2. 1. 0.]\n [2. 6. 4. 6. 8. 5. 4. 1. 0. 3.]\n [5. 8. 4. 4. 2. 1. 0. 3. 4. 3.]\n [6. 1. 0. 3. 2. 1. 0. 1. 2. 5.]\n [2. 5. 3. 3. 0. 5. 7. 1. 2. 4.]\n [5. 4. 5. 2. 5. 6. 8. 1. 0. 6.]]\nCałkowity koszt redukcji macierzy: 18.0\n\nMacierz zer niezależnych\n[[0. 0. 0. 1. 2. 0. 0. 0. 0. 0.]\n [0. 0. 0. 0. 0. 0. 0. 1. 0. 0.]\n [0. 0. 0. 0. 0. 1. 0. 0. 0. 0.]\n [0. 0. 1. 2. 2. 0. 0. 0. 2. 0.]\n [1. 2. 0. 0. 0. 0. 0. 0. 0. 2.]\n [0. 0. 0. 0. 0. 0. 0. 0. 1. 0.]\n [0. 0. 0. 0. 0. 0. 1. 0. 0. 0.]\n [0. 0. 2. 0. 0. 0. 2. 0. 0. 0.]\n [0. 0. 0. 0. 1. 0. 0. 0. 0. 0.]\n [0. 0. 0. 0. 0. 0. 0. 0. 2. 0.]]\n\nOznaczone wiersze:  [False  True  True False  True False False False False False]\nOznaczone kolumny:  [False False  True  True  True False  True False  True False]\n1.0\n\nmacierz po kroku 4\n[[2. 6. 8. 0. 0. 3. 7. 4. 3. 0.]\n [1. 3. 5. 7. 7. 4. 2. 0. 6. 4.]\n [6. 6. 6. 3. 8. 0. 2. 4. 4. 7.]\n [1. 1. 0. 0. 0. 1. 3. 3. 0. 0.]\n [0. 0. 4. 4. 7. 7. 6. 2. 2. 0.]\n [1. 5. 4. 6. 8. 4. 4. 0. 0. 2.]\n [4. 7. 4. 4. 2. 0. 0. 2. 4. 2.]\n [5. 0. 0. 3. 2. 0. 0. 0. 2. 4.]\n [1. 4. 3. 3. 0. 4. 7. 0. 2. 3.]\n [4. 3. 5. 2. 5. 5. 8. 0. 0. 5.]]\n\nMacierz zer niezależnych\n[[0. 0. 0. 1. 2. 0. 0. 0. 0. 2.]\n [0. 0. 0. 0. 0. 0. 0. 1. 0. 0.]\n [0. 0. 0. 0. 0. 1. 0. 0. 0. 0.]\n [0. 0. 1. 2. 2. 0. 0. 0. 2. 2.]\n [1. 2. 0. 0. 0. 0. 0. 0. 0. 2.]\n [0. 0. 0. 0. 0. 0. 0. 2. 2. 0.]\n [0. 0. 0. 0. 0. 2. 1. 0. 0. 0.]\n [0. 1. 2. 0. 0. 2. 2. 2. 0. 0.]\n [0. 0. 0. 0. 1. 0. 0. 2. 0. 0.]\n [0. 0. 0. 0. 0. 0. 0. 2. 1. 0.]]\n\nOznaczone wiersze:  [ True False  True  True  True False  True  True  True False]\nOznaczone kolumny:  [False False False False False False False  True  True False]\n1.0\n\nmacierz po kroku 4\n[[2. 6. 8. 0. 0. 3. 7. 5. 4. 0.]\n [0. 2. 4. 6. 6. 3. 1. 0. 6. 3.]\n [6. 6. 6. 3. 8. 0. 2. 5. 5. 7.]\n [1. 1. 0. 0. 0. 1. 3. 4. 1. 0.]\n [0. 0. 4. 4. 7. 7. 6. 3. 3. 0.]\n [0. 4. 3. 5. 7. 3. 3. 0. 0. 1.]\n [4. 7. 4. 4. 2. 0. 0. 3. 5. 2.]\n [5. 0. 0. 3. 2. 0. 0. 1. 3. 4.]\n [1. 4. 3. 3. 0. 4. 7. 1. 3. 3.]\n [3. 2. 4. 1. 4. 4. 7. 0. 0. 4.]]\n\nMacierz zer niezależnych\n[[0. 0. 0. 1. 2. 0. 0. 0. 0. 2.]\n [1. 0. 0. 0. 0. 0. 0. 2. 0. 0.]\n [0. 0. 0. 0. 0. 1. 0. 0. 0. 0.]\n [0. 0. 1. 2. 2. 0. 0. 0. 0. 2.]\n [2. 2. 0. 0. 0. 0. 0. 0. 0. 1.]\n [2. 0. 0. 0. 0. 0. 0. 1. 2. 0.]\n [0. 0. 0. 0. 0. 2. 1. 0. 0. 0.]\n [0. 1. 2. 0. 0. 2. 2. 0. 0. 0.]\n [0. 0. 0. 0. 1. 0. 0. 0. 0. 0.]\n [0. 0. 0. 0. 0. 0. 0. 2. 1. 0.]]\n\nDopasowanie:\n zadanie: 0 --> maszyna: 3\nzadanie: 1 --> maszyna: 0\nzadanie: 2 --> maszyna: 5\nzadanie: 3 --> maszyna: 2\nzadanie: 4 --> maszyna: 9\nzadanie: 5 --> maszyna: 7\nzadanie: 6 --> maszyna: 6\nzadanie: 7 --> maszyna: 1\nzadanie: 8 --> maszyna: 4\nzadanie: 9 --> maszyna: 8\n \nKoszt:\n 21.0\n"
     ]
    }
   ],
   "source": [
    "reduce_matrix(matrix)"
   ]
  },
  {
   "source": [
    "#### Komentarz\n",
    "Algorytm przydzielił zadania dla wszystkich maszyn oraz obliczył minimalny koszt dla przygotowanej macierzy kosztów. Jak widać dla tak zdefiniowanych danych zostały wykorzystane wszystkie kroki."
   ],
   "cell_type": "markdown",
   "metadata": {}
  }
 ],
 "metadata": {
  "kernelspec": {
   "name": "pycharm-32ea9906",
   "display_name": "Python 3.8.2 64-bit"
  },
  "language_info": {
   "codemirror_mode": {
    "name": "ipython",
    "version": 3
   },
   "file_extension": ".py",
   "mimetype": "text/x-python",
   "name": "python",
   "nbconvert_exporter": "python",
   "pygments_lexer": "ipython3",
   "version": "3.8.2-candidate2"
  }
 },
 "nbformat": 4,
 "nbformat_minor": 4
}